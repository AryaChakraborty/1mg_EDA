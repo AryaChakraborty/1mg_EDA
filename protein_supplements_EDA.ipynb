{
 "cells": [
  {
   "cell_type": "code",
   "execution_count": 1,
   "id": "e82c5855",
   "metadata": {},
   "outputs": [],
   "source": [
    "import pandas as pd\n",
    "import numpy as np"
   ]
  },
  {
   "cell_type": "code",
   "execution_count": 2,
   "id": "c94d1fbc",
   "metadata": {},
   "outputs": [
    {
     "data": {
      "text/html": [
       "<div>\n",
       "<style scoped>\n",
       "    .dataframe tbody tr th:only-of-type {\n",
       "        vertical-align: middle;\n",
       "    }\n",
       "\n",
       "    .dataframe tbody tr th {\n",
       "        vertical-align: top;\n",
       "    }\n",
       "\n",
       "    .dataframe thead th {\n",
       "        text-align: right;\n",
       "    }\n",
       "</style>\n",
       "<table border=\"1\" class=\"dataframe\">\n",
       "  <thead>\n",
       "    <tr style=\"text-align: right;\">\n",
       "      <th></th>\n",
       "      <th>product</th>\n",
       "      <th>quantity</th>\n",
       "      <th>rating</th>\n",
       "      <th>number of ratings</th>\n",
       "      <th>price</th>\n",
       "      <th>keyword</th>\n",
       "    </tr>\n",
       "  </thead>\n",
       "  <tbody>\n",
       "    <tr>\n",
       "      <th>0</th>\n",
       "      <td>Optimum Nutrition (ON) Gold Standard 100% Whey...</td>\n",
       "      <td>jar of 2 lb Powder</td>\n",
       "      <td>4.1</td>\n",
       "      <td>113</td>\n",
       "      <td>3099.0</td>\n",
       "      <td>Optimum</td>\n",
       "    </tr>\n",
       "    <tr>\n",
       "      <th>1</th>\n",
       "      <td>MuscleBlaze MB Biozyme Performance Whey Protei...</td>\n",
       "      <td>jar of 2 kg Powder</td>\n",
       "      <td>3.7</td>\n",
       "      <td>7</td>\n",
       "      <td>4599.0</td>\n",
       "      <td>MuscleBlaze</td>\n",
       "    </tr>\n",
       "    <tr>\n",
       "      <th>2</th>\n",
       "      <td>Fast&amp;Up 100% Whey Isolate Rich Chocolate</td>\n",
       "      <td>sachet of 31 gm Serving</td>\n",
       "      <td>0.0</td>\n",
       "      <td>0</td>\n",
       "      <td>148.0</td>\n",
       "      <td>Fast&amp;Up</td>\n",
       "    </tr>\n",
       "    <tr>\n",
       "      <th>3</th>\n",
       "      <td>IsoPure Low Carb 100% Whey Protein Isolate Cho...</td>\n",
       "      <td>box of 3 lb Powder</td>\n",
       "      <td>3.9</td>\n",
       "      <td>8</td>\n",
       "      <td>6459.0</td>\n",
       "      <td>IsoPure</td>\n",
       "    </tr>\n",
       "    <tr>\n",
       "      <th>4</th>\n",
       "      <td>GNC Pro Performance 100% Whey Protein Vanilla ...</td>\n",
       "      <td>jar of 2 kg Powder</td>\n",
       "      <td>3.7</td>\n",
       "      <td>9</td>\n",
       "      <td>4499.0</td>\n",
       "      <td>GNC</td>\n",
       "    </tr>\n",
       "  </tbody>\n",
       "</table>\n",
       "</div>"
      ],
      "text/plain": [
       "                                             product                 quantity  \\\n",
       "0  Optimum Nutrition (ON) Gold Standard 100% Whey...       jar of 2 lb Powder   \n",
       "1  MuscleBlaze MB Biozyme Performance Whey Protei...       jar of 2 kg Powder   \n",
       "2           Fast&Up 100% Whey Isolate Rich Chocolate  sachet of 31 gm Serving   \n",
       "3  IsoPure Low Carb 100% Whey Protein Isolate Cho...       box of 3 lb Powder   \n",
       "4  GNC Pro Performance 100% Whey Protein Vanilla ...       jar of 2 kg Powder   \n",
       "\n",
       "   rating  number of ratings   price      keyword  \n",
       "0     4.1                113  3099.0      Optimum  \n",
       "1     3.7                  7  4599.0  MuscleBlaze  \n",
       "2     0.0                  0   148.0      Fast&Up  \n",
       "3     3.9                  8  6459.0      IsoPure  \n",
       "4     3.7                  9  4499.0          GNC  "
      ]
     },
     "execution_count": 2,
     "metadata": {},
     "output_type": "execute_result"
    }
   ],
   "source": [
    "data = pd.read_csv('protein_supplements_data_final.csv')\n",
    "data.head()"
   ]
  },
  {
   "cell_type": "markdown",
   "id": "a6fc8aa6",
   "metadata": {},
   "source": [
    "### which brand makes the most amount of products"
   ]
  },
  {
   "cell_type": "code",
   "execution_count": 3,
   "id": "b8081b45",
   "metadata": {},
   "outputs": [
    {
     "data": {
      "text/plain": [
       "keyword\n",
       "Royalent        18\n",
       "Protein         19\n",
       "Vigour          19\n",
       "GNC             21\n",
       "Sixpack         22\n",
       "MuscleXP        24\n",
       "Nutriley        24\n",
       "Tara            26\n",
       "Advance         29\n",
       "Sinew           30\n",
       "HealthXP        31\n",
       "QNT             41\n",
       "Muscletech      42\n",
       "MuscleBlaze     69\n",
       "Nakpro         105\n",
       "Name: product, dtype: int64"
      ]
     },
     "execution_count": 3,
     "metadata": {},
     "output_type": "execute_result"
    }
   ],
   "source": [
    "data.groupby('keyword')['product'].count().sort_values()[-15:]"
   ]
  },
  {
   "cell_type": "code",
   "execution_count": 4,
   "id": "2e261eb1",
   "metadata": {},
   "outputs": [],
   "source": [
    "import matplotlib.pyplot as plt"
   ]
  },
  {
   "cell_type": "markdown",
   "id": "a84265f1",
   "metadata": {},
   "source": [
    "### which brand makes the best of products(acc. to user rating)"
   ]
  },
  {
   "cell_type": "code",
   "execution_count": 6,
   "id": "d7689c93",
   "metadata": {},
   "outputs": [
    {
     "data": {
      "image/png": "[encoded data removed]",
      "text/plain": [
       "<Figure size 432x288 with 1 Axes>"
      ]
     },
     "metadata": {
      "needs_background": "light"
     },
     "output_type": "display_data"
    }
   ],
   "source": [
    "whey_group_rating = data.groupby('keyword')['rating'].mean().sort_values()[-15:]\n",
    "plt.barh(whey_group_rating.keys(), whey_group_rating)\n",
    "plt.xlabel('average rating')\n",
    "plt.ylabel('keyword')\n",
    "plt.show()"
   ]
  },
  {
   "cell_type": "markdown",
   "id": "8b0df547",
   "metadata": {},
   "source": [
    "### which brand makes the most sale"
   ]
  },
  {
   "cell_type": "code",
   "execution_count": 7,
   "id": "d7a88c53",
   "metadata": {},
   "outputs": [
    {
     "data": {
      "image/png": "[encoded data removed]",
      "text/plain": [
       "<Figure size 432x288 with 1 Axes>"
      ]
     },
     "metadata": {
      "needs_background": "light"
     },
     "output_type": "display_data"
    }
   ],
   "source": [
    "whey_group_sale = data.groupby('keyword')['number of ratings'].sum().sort_values()[-15:]\n",
    "plt.barh(whey_group_sale.keys(), whey_group_sale)\n",
    "plt.xlabel('sale')\n",
    "plt.ylabel('keyword')\n",
    "plt.show()"
   ]
  },
  {
   "cell_type": "markdown",
   "id": "4fdf9f9e",
   "metadata": {},
   "source": [
    "## conclusion\n",
    "1. PentaSure is the manufacturer which has highest average rating from users\n",
    "2. Nakpro is the manufacturer with most products\n",
    "3. AS-IT-IS is the brand with most sale"
   ]
  }
 ],
 "metadata": {
  "kernelspec": {
   "display_name": "Python 3 (ipykernel)",
   "language": "python",
   "name": "python3"
  },
  "language_info": {
   "codemirror_mode": {
    "name": "ipython",
    "version": 3
   },
   "file_extension": ".py",
   "mimetype": "text/x-python",
   "name": "python",
   "nbconvert_exporter": "python",
   "pygments_lexer": "ipython3",
   "version": "3.9.7"
  }
 },
 "nbformat": 4,
 "nbformat_minor": 5
}
