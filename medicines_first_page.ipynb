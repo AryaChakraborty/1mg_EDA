{
 "cells": [
  {
   "cell_type": "code",
   "execution_count": 1,
   "id": "9ab52941",
   "metadata": {},
   "outputs": [],
   "source": [
    "import pandas as pd\n",
    "import numpy as np\n",
    "import requests\n",
    "from bs4 import BeautifulSoup as soup"
   ]
  },
  {
   "cell_type": "code",
   "execution_count": 2,
   "id": "11de4823",
   "metadata": {},
   "outputs": [],
   "source": [
    "alpha_list = ['a', 'b', 'c', 'd', 'e', 'f', 'g', 'h', 'i', 'j', 'k', 'l', 'm', 'n', 'o', 'p', 'q', 'r', 's', 't', 'u', 'v', 'w', 'x', 'y', 'z']"
   ]
  },
  {
   "cell_type": "code",
   "execution_count": 3,
   "id": "b7d311c1",
   "metadata": {},
   "outputs": [],
   "source": [
    "final_data = pd.DataFrame()"
   ]
  },
  {
   "cell_type": "code",
   "execution_count": 4,
   "id": "3944cba4",
   "metadata": {},
   "outputs": [],
   "source": [
    "for a in alpha_list :\n",
    "    header = {'Origin': 'https://www.1mg.com',\n",
    "    'Referer': 'https://www.1mg.com/drugs-all-medicines?label={}'.format(a),\n",
    "    'User-Agent': 'Mozilla/5.0 (Windows NT 10.0; WOW64) AppleWebKit/537.36 (KHTML, like Gecko) Chrome/83.0.4103.97 Safari/537.36'\n",
    "    }\n",
    "    \n",
    "    html = requests.get('https://www.1mg.com/drugs-all-medicines?label={}'.format(a), headers=header)\n",
    "    soup_obj = soup(html.content, 'lxml')\n",
    "    \n",
    "    product_info = []\n",
    "    for name in soup_obj.findAll('div',class_ = 'style__font-bold___1k9Dl style__font-14px___YZZrf style__flex-row___2AKyf style__space-between___2mbvn style__padding-bottom-5px___2NrDR'):\n",
    "        product_info.append(name.text.strip())\n",
    "        \n",
    "    product_name = []\n",
    "    product_price = []\n",
    "    for item in product_info :\n",
    "        item_info = item.split('MRP₹')\n",
    "        name, price = item_info[0], item_info[1]\n",
    "        product_name.append(name)\n",
    "        product_price.append(price)\n",
    "        \n",
    "    product_info_2 = []\n",
    "    for name in soup_obj.findAll('div',class_ = 'style__flex-column___1zNVy style__font-12px___2ru_e'):\n",
    "        for childname in name.find_all('div'):\n",
    "            product_info_2.append(childname.text.strip())\n",
    "    quantity = []\n",
    "    company_name = []\n",
    "    for i in range(0, len(product_info_2)) :\n",
    "        if i%2 == 0 :\n",
    "            quantity.append(product_info_2[i])\n",
    "        else :\n",
    "            company_name.append(product_info_2[i])\n",
    "            \n",
    "    diction = {'Name' : product_name, 'Price' : product_price, 'Quantity' : quantity, 'Manufacturer' : company_name}\n",
    "    \n",
    "    data = pd.DataFrame(diction)\n",
    "    final_data = final_data.append(data, ignore_index = True)"
   ]
  },
  {
   "cell_type": "code",
   "execution_count": 5,
   "id": "ae415a94",
   "metadata": {},
   "outputs": [
    {
     "data": {
      "text/html": [
       "<div>\n",
       "<style scoped>\n",
       "    .dataframe tbody tr th:only-of-type {\n",
       "        vertical-align: middle;\n",
       "    }\n",
       "\n",
       "    .dataframe tbody tr th {\n",
       "        vertical-align: top;\n",
       "    }\n",
       "\n",
       "    .dataframe thead th {\n",
       "        text-align: right;\n",
       "    }\n",
       "</style>\n",
       "<table border=\"1\" class=\"dataframe\">\n",
       "  <thead>\n",
       "    <tr style=\"text-align: right;\">\n",
       "      <th></th>\n",
       "      <th>Name</th>\n",
       "      <th>Price</th>\n",
       "      <th>Quantity</th>\n",
       "      <th>Manufacturer</th>\n",
       "    </tr>\n",
       "  </thead>\n",
       "  <tbody>\n",
       "    <tr>\n",
       "      <th>0</th>\n",
       "      <td>Augmentin 625 Duo Tablet</td>\n",
       "      <td>201.71</td>\n",
       "      <td>strip of 10 tablets</td>\n",
       "      <td>Glaxo SmithKline Pharmaceuticals Ltd</td>\n",
       "    </tr>\n",
       "    <tr>\n",
       "      <th>1</th>\n",
       "      <td>Ascoril LS Syrup</td>\n",
       "      <td>114</td>\n",
       "      <td>bottle of 100 ml Syrup</td>\n",
       "      <td>Glenmark Pharmaceuticals Ltd</td>\n",
       "    </tr>\n",
       "    <tr>\n",
       "      <th>2</th>\n",
       "      <td>Azithral 500 Tablet</td>\n",
       "      <td>119.5</td>\n",
       "      <td>strip of 5 tablets</td>\n",
       "      <td>Alembic Pharmaceuticals Ltd</td>\n",
       "    </tr>\n",
       "    <tr>\n",
       "      <th>3</th>\n",
       "      <td>Allegra 120mg Tablet</td>\n",
       "      <td>203.46</td>\n",
       "      <td>strip of 10 tablets</td>\n",
       "      <td>Sanofi India  Ltd</td>\n",
       "    </tr>\n",
       "    <tr>\n",
       "      <th>4</th>\n",
       "      <td>Aciloc 150 Tablet</td>\n",
       "      <td>40.94</td>\n",
       "      <td>strip of 30 tablets</td>\n",
       "      <td>Cadila Pharmaceuticals Ltd</td>\n",
       "    </tr>\n",
       "    <tr>\n",
       "      <th>...</th>\n",
       "      <td>...</td>\n",
       "      <td>...</td>\n",
       "      <td>...</td>\n",
       "      <td>...</td>\n",
       "    </tr>\n",
       "    <tr>\n",
       "      <th>775</th>\n",
       "      <td>Zofer MD 4 Tablet</td>\n",
       "      <td>52.61</td>\n",
       "      <td>strip of 10 tablet dt</td>\n",
       "      <td>Sun Pharmaceutical Industries Ltd</td>\n",
       "    </tr>\n",
       "    <tr>\n",
       "      <th>776</th>\n",
       "      <td>Zostum 1.5gm Injection</td>\n",
       "      <td>376.2</td>\n",
       "      <td>vial of 1.5 gm Injection</td>\n",
       "      <td>Zuventus Healthcare Ltd</td>\n",
       "    </tr>\n",
       "    <tr>\n",
       "      <th>777</th>\n",
       "      <td>Zytee Dental Gel</td>\n",
       "      <td>113</td>\n",
       "      <td>packet of 10 ml Dental Gel</td>\n",
       "      <td>Raptakos Brett &amp; Co Ltd</td>\n",
       "    </tr>\n",
       "    <tr>\n",
       "      <th>778</th>\n",
       "      <td>Zocef-CV 500 Tablet</td>\n",
       "      <td>570</td>\n",
       "      <td>strip of 6 tablets</td>\n",
       "      <td>Alkem Laboratories Ltd</td>\n",
       "    </tr>\n",
       "    <tr>\n",
       "      <th>779</th>\n",
       "      <td>Zole-F Ointment</td>\n",
       "      <td>95</td>\n",
       "      <td>tube of 15 gm Ointment</td>\n",
       "      <td>Sun Pharmaceutical Industries Ltd</td>\n",
       "    </tr>\n",
       "  </tbody>\n",
       "</table>\n",
       "<p>780 rows × 4 columns</p>\n",
       "</div>"
      ],
      "text/plain": [
       "                         Name   Price                    Quantity  \\\n",
       "0    Augmentin 625 Duo Tablet  201.71         strip of 10 tablets   \n",
       "1            Ascoril LS Syrup     114      bottle of 100 ml Syrup   \n",
       "2         Azithral 500 Tablet   119.5          strip of 5 tablets   \n",
       "3        Allegra 120mg Tablet  203.46         strip of 10 tablets   \n",
       "4           Aciloc 150 Tablet   40.94         strip of 30 tablets   \n",
       "..                        ...     ...                         ...   \n",
       "775         Zofer MD 4 Tablet   52.61       strip of 10 tablet dt   \n",
       "776    Zostum 1.5gm Injection   376.2    vial of 1.5 gm Injection   \n",
       "777          Zytee Dental Gel     113  packet of 10 ml Dental Gel   \n",
       "778       Zocef-CV 500 Tablet     570          strip of 6 tablets   \n",
       "779           Zole-F Ointment      95      tube of 15 gm Ointment   \n",
       "\n",
       "                             Manufacturer  \n",
       "0    Glaxo SmithKline Pharmaceuticals Ltd  \n",
       "1            Glenmark Pharmaceuticals Ltd  \n",
       "2             Alembic Pharmaceuticals Ltd  \n",
       "3                       Sanofi India  Ltd  \n",
       "4              Cadila Pharmaceuticals Ltd  \n",
       "..                                    ...  \n",
       "775     Sun Pharmaceutical Industries Ltd  \n",
       "776               Zuventus Healthcare Ltd  \n",
       "777               Raptakos Brett & Co Ltd  \n",
       "778                Alkem Laboratories Ltd  \n",
       "779     Sun Pharmaceutical Industries Ltd  \n",
       "\n",
       "[780 rows x 4 columns]"
      ]
     },
     "execution_count": 5,
     "metadata": {},
     "output_type": "execute_result"
    }
   ],
   "source": [
    "final_data"
   ]
  },
  {
   "cell_type": "code",
   "execution_count": 6,
   "id": "77a29cff",
   "metadata": {},
   "outputs": [],
   "source": [
    "final_data.drop_duplicates(subset = ['Name'], inplace=True)"
   ]
  },
  {
   "cell_type": "code",
   "execution_count": 7,
   "id": "740651b2",
   "metadata": {},
   "outputs": [
    {
     "data": {
      "text/plain": [
       "(763, 4)"
      ]
     },
     "execution_count": 7,
     "metadata": {},
     "output_type": "execute_result"
    }
   ],
   "source": [
    "final_data.shape"
   ]
  },
  {
   "cell_type": "code",
   "execution_count": 8,
   "id": "aa5294e0",
   "metadata": {},
   "outputs": [],
   "source": [
    "import seaborn as sns\n",
    "import matplotlib.pyplot as plt"
   ]
  },
  {
   "cell_type": "code",
   "execution_count": 9,
   "id": "5556a2bd",
   "metadata": {},
   "outputs": [
    {
     "data": {
      "text/plain": [
       "Text(0.5, 1.0, 'Manufacturers with most products')"
      ]
     },
     "execution_count": 9,
     "metadata": {},
     "output_type": "execute_result"
    },
    {
     "data": {
      "image/png": "[encoded data removed]",
      "text/plain": [
       "<Figure size 432x288 with 1 Axes>"
      ]
     },
     "metadata": {
      "needs_background": "light"
     },
     "output_type": "display_data"
    }
   ],
   "source": [
    "company_groups = final_data.groupby('Manufacturer')['Name'].count().sort_values()[-20:]\n",
    "\n",
    "plt.barh(company_groups.keys(), company_groups)\n",
    "plt.ylabel('Manufacturer')\n",
    "plt.xlabel('Medicines')\n",
    "plt.title('Manufacturers with most products')"
   ]
  },
  {
   "cell_type": "code",
   "execution_count": 10,
   "id": "1d3d80df",
   "metadata": {},
   "outputs": [],
   "source": [
    "final_data.to_csv('medicines_first_page_data.csv', index=False)"
   ]
  },
  {
   "cell_type": "code",
   "execution_count": 11,
   "id": "cc5a51d2",
   "metadata": {},
   "outputs": [
    {
     "name": "stderr",
     "output_type": "stream",
     "text": [
      "C:\\Users\\aryac\\anaconda3\\lib\\site-packages\\seaborn\\distributions.py:2619: FutureWarning: `distplot` is a deprecated function and will be removed in a future version. Please adapt your code to use either `displot` (a figure-level function with similar flexibility) or `kdeplot` (an axes-level function for kernel density plots).\n",
      "  warnings.warn(msg, FutureWarning)\n",
      "C:\\Users\\aryac\\anaconda3\\lib\\site-packages\\seaborn\\distributions.py:2103: FutureWarning: The `axis` variable is no longer used and will be removed. Instead, assign variables directly to `x` or `y`.\n",
      "  warnings.warn(msg, FutureWarning)\n"
     ]
    },
    {
     "data": {
      "image/png": "[encoded data removed]",
      "text/plain": [
       "<Figure size 432x288 with 1 Axes>"
      ]
     },
     "metadata": {
      "needs_background": "light"
     },
     "output_type": "display_data"
    }
   ],
   "source": [
    "sns.distplot(final_data['Price'], hist=False, rug=True)\n",
    "plt.show()"
   ]
  },
  {
   "cell_type": "code",
   "execution_count": 12,
   "id": "6d3f32b0",
   "metadata": {},
   "outputs": [],
   "source": [
    "final_data = final_data.astype({'Price' : float})"
   ]
  },
  {
   "cell_type": "code",
   "execution_count": 13,
   "id": "29da5715",
   "metadata": {},
   "outputs": [],
   "source": [
    "# removing outliers\n",
    "\n",
    "q1 = final_data['Price'].quantile(0.25)\n",
    "q3 = final_data['Price'].quantile(0.75)\n",
    "iqr = q3 - q1\n",
    "\n",
    "filter = (final_data['Price'] >= q1-1.5*iqr) & (final_data['Price'] <= q3+1.5*iqr)\n",
    "filtered_data = final_data[filter]"
   ]
  },
  {
   "cell_type": "code",
   "execution_count": 14,
   "id": "f5a5cad0",
   "metadata": {},
   "outputs": [
    {
     "name": "stdout",
     "output_type": "stream",
     "text": [
      "109.605\n"
     ]
    }
   ],
   "source": [
    "print(np.median(filtered_data['Price']))"
   ]
  },
  {
   "cell_type": "code",
   "execution_count": 15,
   "id": "77f890eb",
   "metadata": {},
   "outputs": [
    {
     "name": "stderr",
     "output_type": "stream",
     "text": [
      "C:\\Users\\aryac\\anaconda3\\lib\\site-packages\\seaborn\\_decorators.py:36: FutureWarning: Pass the following variable as a keyword arg: x. From version 0.12, the only valid positional argument will be `data`, and passing other arguments without an explicit keyword will result in an error or misinterpretation.\n",
      "  warnings.warn(\n"
     ]
    },
    {
     "data": {
      "text/plain": [
       "<AxesSubplot:xlabel='Price'>"
      ]
     },
     "execution_count": 15,
     "metadata": {},
     "output_type": "execute_result"
    },
    {
     "data": {
      "image/png": "[encoded data removed]",
      "text/plain": [
       "<Figure size 432x288 with 1 Axes>"
      ]
     },
     "metadata": {
      "needs_background": "light"
     },
     "output_type": "display_data"
    }
   ],
   "source": [
    "sns.boxplot(filtered_data['Price'])"
   ]
  },
  {
   "cell_type": "code",
   "execution_count": 16,
   "id": "d7d6300c",
   "metadata": {},
   "outputs": [
    {
     "name": "stderr",
     "output_type": "stream",
     "text": [
      "C:\\Users\\aryac\\anaconda3\\lib\\site-packages\\seaborn\\distributions.py:2619: FutureWarning: `distplot` is a deprecated function and will be removed in a future version. Please adapt your code to use either `displot` (a figure-level function with similar flexibility) or `kdeplot` (an axes-level function for kernel density plots).\n",
      "  warnings.warn(msg, FutureWarning)\n",
      "C:\\Users\\aryac\\anaconda3\\lib\\site-packages\\seaborn\\distributions.py:2103: FutureWarning: The `axis` variable is no longer used and will be removed. Instead, assign variables directly to `x` or `y`.\n",
      "  warnings.warn(msg, FutureWarning)\n"
     ]
    },
    {
     "data": {
      "image/png": "[encoded data removed]",
      "text/plain": [
       "<Figure size 432x288 with 1 Axes>"
      ]
     },
     "metadata": {
      "needs_background": "light"
     },
     "output_type": "display_data"
    }
   ],
   "source": [
    "sns.distplot(filtered_data['Price'], hist=False, rug=True)\n",
    "plt.show()"
   ]
  }
 ],
 "metadata": {
  "kernelspec": {
   "display_name": "Python 3 (ipykernel)",
   "language": "python",
   "name": "python3"
  },
  "language_info": {
   "codemirror_mode": {
    "name": "ipython",
    "version": 3
   },
   "file_extension": ".py",
   "mimetype": "text/x-python",
   "name": "python",
   "nbconvert_exporter": "python",
   "pygments_lexer": "ipython3",
   "version": "3.9.7"
  }
 },
 "nbformat": 4,
 "nbformat_minor": 5
}
