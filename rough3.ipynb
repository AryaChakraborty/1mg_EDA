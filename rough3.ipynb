{
 "cells": [
  {
   "cell_type": "code",
   "execution_count": 1,
   "id": "5c5c65f3",
   "metadata": {},
   "outputs": [],
   "source": [
    "from selenium import webdriver\n",
    "from selenium.webdriver.common.by import By\n",
    "from webdriver_manager.chrome import ChromeDriverManager\n",
    "from selenium.webdriver.common.keys import Keys"
   ]
  },
  {
   "cell_type": "code",
   "execution_count": 2,
   "id": "92cef5d3",
   "metadata": {},
   "outputs": [],
   "source": [
    "PATH = 'C:\\selenium_driver\\chromedriver.exe'"
   ]
  },
  {
   "cell_type": "code",
   "execution_count": 3,
   "id": "d5222d30",
   "metadata": {},
   "outputs": [
    {
     "name": "stderr",
     "output_type": "stream",
     "text": [
      "C:\\Users\\aryac\\AppData\\Local\\Temp/ipykernel_10204/797652658.py:1: DeprecationWarning: executable_path has been deprecated, please pass in a Service object\n",
      "  driver = webdriver.Chrome(PATH)\n"
     ]
    }
   ],
   "source": [
    "driver = webdriver.Chrome(PATH)"
   ]
  },
  {
   "cell_type": "code",
   "execution_count": 4,
   "id": "6aae5b17",
   "metadata": {},
   "outputs": [],
   "source": [
    "driver.get('https://www.1mg.com/categories/diabetes/diabetic-medicines-583')"
   ]
  },
  {
   "cell_type": "code",
   "execution_count": null,
   "id": "68907645",
   "metadata": {},
   "outputs": [],
   "source": [
    "driver.maximize_window()"
   ]
  },
  {
   "cell_type": "code",
   "execution_count": 5,
   "id": "ad9c0dfd",
   "metadata": {},
   "outputs": [],
   "source": [
    "element = driver.find_element(by=By.CLASS_NAME, value='style__product-box___liepi')"
   ]
  },
  {
   "cell_type": "code",
   "execution_count": 6,
   "id": "9e402564",
   "metadata": {},
   "outputs": [],
   "source": [
    "element.click()"
   ]
  }
 ],
 "metadata": {
  "kernelspec": {
   "display_name": "Python 3 (ipykernel)",
   "language": "python",
   "name": "python3"
  },
  "language_info": {
   "codemirror_mode": {
    "name": "ipython",
    "version": 3
   },
   "file_extension": ".py",
   "mimetype": "text/x-python",
   "name": "python",
   "nbconvert_exporter": "python",
   "pygments_lexer": "ipython3",
   "version": "3.9.7"
  }
 },
 "nbformat": 4,
 "nbformat_minor": 5
}
